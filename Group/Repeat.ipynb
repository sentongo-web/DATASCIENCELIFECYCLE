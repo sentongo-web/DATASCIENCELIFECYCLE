{
 "cells": [
  {
   "attachments": {},
   "cell_type": "markdown",
   "metadata": {},
   "source": [
    "You have been provided with a folder containing an excel sheet called \"Diagnosis_data.xlsx\" and a notepad describing the data\n",
    "\n",
    "1. Explore the distribution of dataset by checking each variable for; \n",
    "\n",
    "a) Missing data\n",
    "\n",
    "b) Outliers"
   ]
  },
  {
   "attachments": {},
   "cell_type": "markdown",
   "metadata": {},
   "source": [
    "the first step is to import the necessary libraries"
   ]
  },
  {
   "cell_type": "code",
   "execution_count": 74,
   "metadata": {},
   "outputs": [],
   "source": [
    "import numpy as np  \n",
    "import pandas as pd  \n",
    "import seaborn as sns\n",
    "import matplotlib.pyplot as plt   "
   ]
  },
  {
   "cell_type": "code",
   "execution_count": 75,
   "metadata": {},
   "outputs": [],
   "source": [
    "df = pd.read_excel('Diagnosis_data.xlsx')# This function reads the dataset which is saved as Diagnosis_data.xlsx"
   ]
  },
  {
   "cell_type": "code",
   "execution_count": 76,
   "metadata": {},
   "outputs": [
    {
     "data": {
      "text/plain": [
       "<bound method NDFrame.head of        a1   a2   a3   a4   a5   a6   d1   d2\n",
       "0    35,5   no  yes   no   no   no   no   no\n",
       "1    35,9   no   no  yes  yes  yes  yes   no\n",
       "2    35,9   no  yes   no   no   no   no   no\n",
       "3    36,0   no   no  yes  yes  yes  yes   no\n",
       "4    36,0   no  yes   no   no   no   no   no\n",
       "..    ...  ...  ...  ...  ...  ...  ...  ...\n",
       "115  41,4   no  yes  yes   no  yes   no  yes\n",
       "116  41,5   no   no   no   no   no   no   no\n",
       "117  41,5  yes  yes   no  yes   no   no  yes\n",
       "118  41,5   no  yes  yes   no  yes   no  yes\n",
       "119  41,5   no  yes  yes   no  yes   no  yes\n",
       "\n",
       "[120 rows x 8 columns]>"
      ]
     },
     "execution_count": 76,
     "metadata": {},
     "output_type": "execute_result"
    }
   ],
   "source": [
    "df.head# to display how our data is distributed"
   ]
  },
  {
   "cell_type": "code",
   "execution_count": 77,
   "metadata": {},
   "outputs": [
    {
     "name": "stdout",
     "output_type": "stream",
     "text": [
      "<class 'pandas.core.frame.DataFrame'>\n",
      "RangeIndex: 120 entries, 0 to 119\n",
      "Data columns (total 8 columns):\n",
      " #   Column  Non-Null Count  Dtype \n",
      "---  ------  --------------  ----- \n",
      " 0   a1      120 non-null    object\n",
      " 1   a2      120 non-null    object\n",
      " 2   a3      120 non-null    object\n",
      " 3   a4      120 non-null    object\n",
      " 4   a5      120 non-null    object\n",
      " 5   a6      120 non-null    object\n",
      " 6   d1      120 non-null    object\n",
      " 7   d2      120 non-null    object\n",
      "dtypes: object(8)\n",
      "memory usage: 7.6+ KB\n"
     ]
    }
   ],
   "source": [
    "df.info()#this is used while exploring the dataset and this always outputs a summary of the dataset.\n",
    "# it is showing that the dataset has 8 columns and also shows the dqata type and this being object data"
   ]
  },
  {
   "cell_type": "code",
   "execution_count": 78,
   "metadata": {},
   "outputs": [
    {
     "data": {
      "text/html": [
       "<div>\n",
       "<style scoped>\n",
       "    .dataframe tbody tr th:only-of-type {\n",
       "        vertical-align: middle;\n",
       "    }\n",
       "\n",
       "    .dataframe tbody tr th {\n",
       "        vertical-align: top;\n",
       "    }\n",
       "\n",
       "    .dataframe thead th {\n",
       "        text-align: right;\n",
       "    }\n",
       "</style>\n",
       "<table border=\"1\" class=\"dataframe\">\n",
       "  <thead>\n",
       "    <tr style=\"text-align: right;\">\n",
       "      <th></th>\n",
       "      <th>a1</th>\n",
       "      <th>a2</th>\n",
       "      <th>a3</th>\n",
       "      <th>a4</th>\n",
       "      <th>a5</th>\n",
       "      <th>a6</th>\n",
       "      <th>d1</th>\n",
       "      <th>d2</th>\n",
       "    </tr>\n",
       "  </thead>\n",
       "  <tbody>\n",
       "    <tr>\n",
       "      <th>count</th>\n",
       "      <td>120</td>\n",
       "      <td>120</td>\n",
       "      <td>120</td>\n",
       "      <td>120</td>\n",
       "      <td>120</td>\n",
       "      <td>120</td>\n",
       "      <td>120</td>\n",
       "      <td>120</td>\n",
       "    </tr>\n",
       "    <tr>\n",
       "      <th>unique</th>\n",
       "      <td>44</td>\n",
       "      <td>2</td>\n",
       "      <td>2</td>\n",
       "      <td>2</td>\n",
       "      <td>2</td>\n",
       "      <td>2</td>\n",
       "      <td>2</td>\n",
       "      <td>2</td>\n",
       "    </tr>\n",
       "    <tr>\n",
       "      <th>top</th>\n",
       "      <td>40,0</td>\n",
       "      <td>no</td>\n",
       "      <td>yes</td>\n",
       "      <td>yes</td>\n",
       "      <td>no</td>\n",
       "      <td>no</td>\n",
       "      <td>no</td>\n",
       "      <td>no</td>\n",
       "    </tr>\n",
       "    <tr>\n",
       "      <th>freq</th>\n",
       "      <td>8</td>\n",
       "      <td>91</td>\n",
       "      <td>70</td>\n",
       "      <td>80</td>\n",
       "      <td>61</td>\n",
       "      <td>70</td>\n",
       "      <td>61</td>\n",
       "      <td>70</td>\n",
       "    </tr>\n",
       "  </tbody>\n",
       "</table>\n",
       "</div>"
      ],
      "text/plain": [
       "          a1   a2   a3   a4   a5   a6   d1   d2\n",
       "count    120  120  120  120  120  120  120  120\n",
       "unique    44    2    2    2    2    2    2    2\n",
       "top     40,0   no  yes  yes   no   no   no   no\n",
       "freq       8   91   70   80   61   70   61   70"
      ]
     },
     "execution_count": 78,
     "metadata": {},
     "output_type": "execute_result"
    }
   ],
   "source": [
    "df.describe()#this summarises the datset, using this to check for descriptive stats of the data.\n",
    "#shows the shape of the dataset"
   ]
  },
  {
   "attachments": {},
   "cell_type": "markdown",
   "metadata": {},
   "source": [
    "below is to run a test that would show if the dataset has some missing values or not. and if found, then we treate them. this helps us to check for the quality of the data because when the quality is good, without missing information, we can get reliable results"
   ]
  },
  {
   "cell_type": "code",
   "execution_count": 79,
   "metadata": {},
   "outputs": [
    {
     "name": "stdout",
     "output_type": "stream",
     "text": [
      "Missing Data:\n",
      "a1    0\n",
      "a2    0\n",
      "a3    0\n",
      "a4    0\n",
      "a5    0\n",
      "a6    0\n",
      "d1    0\n",
      "d2    0\n",
      "dtype: int64\n"
     ]
    }
   ],
   "source": [
    "# Check for missing data\n",
    "missing_data = df.isnull().sum()\n",
    "print(\"Missing Data:\")\n",
    "print(missing_data)"
   ]
  },
  {
   "attachments": {},
   "cell_type": "markdown",
   "metadata": {},
   "source": [
    "the results above plus the overall exploration of the data in excel, it confirms that there are no missing values or information in the entire dataset"
   ]
  },
  {
   "attachments": {},
   "cell_type": "markdown",
   "metadata": {},
   "source": [
    "\n",
    "by analysing the dataset under excel, we realise that the values under temperature(a1) arent float values. this will not be easy to check for these variables unless when we convert them into real temperature values and we have used the function below. in this moment we are exploring the dataset and getting familiar with it"
   ]
  },
  {
   "cell_type": "code",
   "execution_count": 80,
   "metadata": {},
   "outputs": [
    {
     "name": "stdout",
     "output_type": "stream",
     "text": [
      "0      35.5\n",
      "1      35.9\n",
      "2      35.9\n",
      "3      36.0\n",
      "4      36.0\n",
      "       ... \n",
      "115    41.4\n",
      "116    41.5\n",
      "117    41.5\n",
      "118    41.5\n",
      "119    41.5\n",
      "Name: a1, Length: 120, dtype: float64\n"
     ]
    }
   ],
   "source": [
    "import pandas as pd\n",
    "\n",
    "# Load the dataset\n",
    "df = pd.read_excel('Diagnosis_data.xlsx')\n",
    "\n",
    "# Converting temperature values to real numerical values\n",
    "df['a1'] = df['a1'].str.replace(',', '.').astype(float)\n",
    "\n",
    "# Print the updated values\n",
    "print(df['a1'])\n"
   ]
  },
  {
   "attachments": {},
   "cell_type": "markdown",
   "metadata": {},
   "source": [
    "lets check for outliers in the temperature variable."
   ]
  },
  {
   "cell_type": "code",
   "execution_count": 81,
   "metadata": {},
   "outputs": [
    {
     "data": {
      "image/png": "[encoded data removed]",
      "text/plain": [
       "<Figure size 640x480 with 1 Axes>"
      ]
     },
     "metadata": {},
     "output_type": "display_data"
    }
   ],
   "source": [
    "#Check for outliers in the variable \"temperature\" for the diagnosis dataset\n",
    "Outliers_Temperature = sns.boxplot(df['a1'])"
   ]
  },
  {
   "attachments": {},
   "cell_type": "markdown",
   "metadata": {},
   "source": [
    "the boxplot figure above shows that there are no outliers in the temperature variable. also this is evidenced in the dataset when opened in excel. these values are normally distributed from 35.5 degrees to 41.5 degrees"
   ]
  },
  {
   "attachments": {},
   "cell_type": "markdown",
   "metadata": {},
   "source": [
    "to check for any missing values under temperature"
   ]
  },
  {
   "cell_type": "code",
   "execution_count": 82,
   "metadata": {},
   "outputs": [
    {
     "name": "stdout",
     "output_type": "stream",
     "text": [
      "Number of missing values in 'a1' column: 0\n"
     ]
    }
   ],
   "source": [
    "import pandas as pd\n",
    "\n",
    "# Load the dataset\n",
    "df = pd.read_excel('Diagnosis_data.xlsx')\n",
    "\n",
    "# Check for missing values in the 'a1' column\n",
    "missing_values = df['a1'].isnull().sum()\n",
    "\n",
    "# Print the number of missing values\n",
    "print(\"Number of missing values in 'a1' column:\", missing_values)\n"
   ]
  },
  {
   "attachments": {},
   "cell_type": "markdown",
   "metadata": {},
   "source": [
    "to visualise data distribution in all categorical column which have been identified as 'a2', 'a3', 'a4','a5','a6','d1','d2' we use barplots. "
   ]
  },
  {
   "cell_type": "code",
   "execution_count": 83,
   "metadata": {},
   "outputs": [],
   "source": [
    "# Plotting multiple bar charts at once for categorical variables\n",
    "# Since there is no default function which can plot bar charts for multiple columns at once\n",
    "# we are defining our own function for the same\n",
    "\n",
    "def PlotBarCharts(inpData, colsToPlot):\n",
    "    %matplotlib inline\n",
    "    \n",
    "    import matplotlib.pyplot as plt\n",
    "    \n",
    "    # Generating multiple subplots\n",
    "    fig, subPlot=plt.subplots(nrows=1, ncols=len(colsToPlot), figsize=(20,5))\n",
    "    fig.suptitle('Bar charts of: '+ str(colsToPlot))\n",
    "\n",
    "    for colName, plotNumber in zip(colsToPlot, range(len(colsToPlot))):\n",
    "        inpData.groupby(colName).size().plot(kind='bar',ax=subPlot[plotNumber])"
   ]
  },
  {
   "attachments": {},
   "cell_type": "markdown",
   "metadata": {},
   "source": [
    "above was to describe the function to output the bar charts, below is the actual output. this would show how data is distributed amongst these categorical variables."
   ]
  },
  {
   "cell_type": "code",
   "execution_count": 84,
   "metadata": {},
   "outputs": [
    {
     "data": {
      "image/png": "[encoded data removed]",
      "text/plain": [
       "<Figure size 2000x500 with 7 Axes>"
      ]
     },
     "metadata": {},
     "output_type": "display_data"
    }
   ],
   "source": [
    "PlotBarCharts(inpData=df, colsToPlot=['a2', 'a3', 'a4','a5','a6','d1','d2'])"
   ]
  },
  {
   "attachments": {},
   "cell_type": "markdown",
   "metadata": {},
   "source": [
    "the above graphs show:\n",
    "\n",
    "under a2: which is the occurence of nausea,= there are more no than yes\n",
    "\n",
    "under a3: which is about having lumber pains,= there are more yes than no\n",
    "\n",
    "under a4: which is Urine pushing (continuous need for urination), there are more yes than the no and the same applies to the rest. the yes and no explain about the specified symptoms"
   ]
  },
  {
   "attachments": {},
   "cell_type": "markdown",
   "metadata": {},
   "source": [
    "also below is one general function that outputs the overall distribution of data in the categorical columns"
   ]
  },
  {
   "cell_type": "code",
   "execution_count": 85,
   "metadata": {},
   "outputs": [
    {
     "name": "stdout",
     "output_type": "stream",
     "text": [
      "Distribution of categories in a2\n",
      "a2\n",
      "no     91\n",
      "yes    29\n",
      "Name: count, dtype: int64\n",
      "\n",
      "Distribution of categories in a3\n",
      "a3\n",
      "yes    70\n",
      "no     50\n",
      "Name: count, dtype: int64\n",
      "\n",
      "Distribution of categories in a4\n",
      "a4\n",
      "yes    80\n",
      "no     40\n",
      "Name: count, dtype: int64\n",
      "\n",
      "Distribution of categories in a5\n",
      "a5\n",
      "no     61\n",
      "yes    59\n",
      "Name: count, dtype: int64\n",
      "\n",
      "Distribution of categories in a6\n",
      "a6\n",
      "no     70\n",
      "yes    50\n",
      "Name: count, dtype: int64\n",
      "\n",
      "Distribution of categories in d1\n",
      "d1\n",
      "no     61\n",
      "yes    59\n",
      "Name: count, dtype: int64\n",
      "\n",
      "Distribution of categories in d2\n",
      "d2\n",
      "no     70\n",
      "yes    50\n",
      "Name: count, dtype: int64\n",
      "\n"
     ]
    }
   ],
   "source": [
    "import pandas as pd\n",
    "\n",
    "# Load the dataset\n",
    "df = pd.read_excel('Diagnosis_data.xlsx')\n",
    "\n",
    "# Check the distribution of categories in each categorical variable\n",
    "categorical_variables = ['a2', 'a3', 'a4', 'a5', 'a6', 'd1', 'd2']\n",
    "\n",
    "for var in categorical_variables:\n",
    "    category_counts = df[var].value_counts()\n",
    "    print(\"Distribution of categories in\", var)\n",
    "    print(category_counts)\n",
    "    print()\n"
   ]
  },
  {
   "attachments": {},
   "cell_type": "markdown",
   "metadata": {},
   "source": [
    "from the above is just a summary of all data in the categorical columns. by checking for this, we are exploring our dataset and also identifying the target variables. the only continuos variable in the dataset is temperature."
   ]
  },
  {
   "attachments": {},
   "cell_type": "markdown",
   "metadata": {},
   "source": [
    "Overall,\n",
    "the above, we have explored all variables: 1 continuous variable (a1) temperature and all the rest are categorical variables."
   ]
  },
  {
   "attachments": {},
   "cell_type": "markdown",
   "metadata": {},
   "source": []
  },
  {
   "attachments": {},
   "cell_type": "markdown",
   "metadata": {},
   "source": [
    "ANALYSIS REGARDING OUTLIERS AND MISSING INFORMATION.\n",
    "\n",
    "From the provided information, it appears that the categorical variables (a2, a3, a4, a5, a6, d1, d2) do not have outliers. "
   ]
  },
  {
   "attachments": {},
   "cell_type": "markdown",
   "metadata": {},
   "source": []
  },
  {
   "attachments": {},
   "cell_type": "markdown",
   "metadata": {},
   "source": [
    "Regarding the missing values, it seems that there are no missing values in any of the columns, including the temperature column (a1), as the count for missing values in all columns has shown results as 0."
   ]
  },
  {
   "attachments": {},
   "cell_type": "markdown",
   "metadata": {},
   "source": [
    "also to note: there are no outliers in the dataset"
   ]
  },
  {
   "attachments": {},
   "cell_type": "markdown",
   "metadata": {},
   "source": []
  },
  {
   "attachments": {},
   "cell_type": "markdown",
   "metadata": {},
   "source": [
    "Question 2. Check for the relationship between any two of these types of variables; \n",
    "\n",
    "\n",
    "a) Continuous and categorical variables\n",
    "\n",
    "b) Categorical variables"
   ]
  },
  {
   "attachments": {},
   "cell_type": "markdown",
   "metadata": {},
   "source": [
    "having explored the dataset,\n",
    "\n",
    "i can confirm that the dataset has one continuos variable (a1-temoerature) and the rest are all categorical variables. \n",
    "\n",
    "a2 Occurrence of nausea \n",
    "\n",
    "a3 Lumbar pain \n",
    "\n",
    "a4 Urine pushing (continuous need for urination)\n",
    "\n",
    "a5 Micturition pains \n",
    "\n",
    "a6 Burning of urethra, itch, swelling of urethra outlet\n",
    "\n",
    "d1 decision: Inflammation of urinary bladder\n",
    "\n",
    "d2 decision: Nephritis of renal pelvis origin\n"
   ]
  },
  {
   "attachments": {},
   "cell_type": "markdown",
   "metadata": {},
   "source": [
    "because the rest are all categorical variables, i am choosing to test all of their relationship with the temperature."
   ]
  },
  {
   "attachments": {},
   "cell_type": "markdown",
   "metadata": {},
   "source": [
    "While exploring the relationships in the dataset, it is important to note that we are to use a boxplot to visualise the relationship between temperature vs all the other variables. "
   ]
  },
  {
   "cell_type": "code",
   "execution_count": 86,
   "metadata": {},
   "outputs": [
    {
     "data": {
      "image/png": "[encoded data removed]",
      "text/plain": [
       "<Figure size 1500x500 with 7 Axes>"
      ]
     },
     "metadata": {},
     "output_type": "display_data"
    }
   ],
   "source": [
    "import pandas as pd\n",
    "import matplotlib.pyplot as plt\n",
    "\n",
    "# Load the dataset\n",
    "df = pd.read_excel('Diagnosis_data.xlsx')\n",
    "\n",
    "# Convert temperature column to numerical data type\n",
    "df['a1'] = df['a1'].str.replace(',', '.').astype(float)\n",
    "\n",
    "# Define the list of categorical columns\n",
    "categorical_cols_list = ['a2', 'a3', 'a4','a5','a6','d1','d2']\n",
    "\n",
    "# Create subplots for box plots\n",
    "fig, plot_canvas = plt.subplots(nrows=1, ncols=len(categorical_cols_list), figsize=(15, 5))\n",
    "\n",
    "# Create box plots for each categorical column\n",
    "for predictor_col, i in zip(categorical_cols_list, range(len(categorical_cols_list))):\n",
    "    df.boxplot(column='a1', by=predictor_col, vert=True, ax=plot_canvas[i])\n",
    "\n",
    "# Set the titles for each subplot\n",
    "for i, predictor_col in enumerate(categorical_cols_list):\n",
    "    plot_canvas[i].set_title(f'Boxplot of a1 by {predictor_col}')\n",
    "\n",
    "# Adjust the layout and display the plots\n",
    "plt.tight_layout()\n",
    "plt.show()\n"
   ]
  },
  {
   "attachments": {},
   "cell_type": "markdown",
   "metadata": {},
   "source": [
    "from the above diagram, it is really hard to explain the visuals and to tell the actual picture of how temperature is related to the other variables. "
   ]
  },
  {
   "attachments": {},
   "cell_type": "markdown",
   "metadata": {},
   "source": [
    "we then emply an ANOVA tool that helps to give a statistical explanation especially when testing for relationships between categorical and continuous variables.\n",
    "In ANOVA, the null hypothesis assumes that there is no significant relationship between the means of the variables, while the alternative hypothesis suggests that at least one variable's mean is significantly related to the others.\n",
    "\n",
    "If the p-value is below a predetermined significance level (usually 0.05), we reject the null hypothesis and conclude that there are significant relationships between the variables means."
   ]
  },
  {
   "cell_type": "code",
   "execution_count": 87,
   "metadata": {},
   "outputs": [],
   "source": [
    "#ANOVA tests:\n",
    "# Defining a function to find the statistical relationship with all the categorical variables\n",
    "def FunctionAnova(inpData, TargetVariable, CategoricalPredictorList):\n",
    "    from scipy.stats import f_oneway\n",
    "\n",
    "    # Creating an empty list of final selected predictors\n",
    "    SelectedPredictors=[]\n",
    "    \n",
    "    print('##### ANOVA Results ##### \\n')\n",
    "    for predictor in CategoricalPredictorList:\n",
    "        CategoryGroupLists=inpData.groupby(predictor)[TargetVariable].apply(list)\n",
    "        AnovaResults = f_oneway(*CategoryGroupLists)\n",
    "        \n",
    "        # If the ANOVA P-Value is <0.05, that means we reject H0\n",
    "        if (AnovaResults[1] < 0.05):\n",
    "            print(predictor, 'is correlated with', TargetVariable, '| P-Value:', AnovaResults[1])\n",
    "            SelectedPredictors.append(predictor)\n",
    "        else:\n",
    "            print(predictor, 'is NOT correlated with', TargetVariable, '| P-Value:', AnovaResults[1])\n",
    "    \n",
    "    return(SelectedPredictors)"
   ]
  },
  {
   "cell_type": "code",
   "execution_count": 88,
   "metadata": {},
   "outputs": [
    {
     "name": "stdout",
     "output_type": "stream",
     "text": [
      "##### ANOVA Results ##### \n",
      "\n",
      "a2 is correlated with a1 | P-Value: 9.444470942079121e-13\n",
      "a3 is correlated with a1 | P-Value: 9.538063369677785e-06\n",
      "a4 is NOT correlated with a1 | P-Value: 0.8379440897531043\n",
      "a5 is NOT correlated with a1 | P-Value: 0.5116123607874574\n",
      "a6 is NOT correlated with a1 | P-Value: 0.6863061482042518\n",
      "d1 is correlated with a1 | P-Value: 0.009239014298390651\n",
      "d2 is correlated with a1 | P-Value: 8.233666411517864e-22\n"
     ]
    },
    {
     "data": {
      "text/plain": [
       "['a2', 'a3', 'd1', 'd2']"
      ]
     },
     "execution_count": 88,
     "metadata": {},
     "output_type": "execute_result"
    }
   ],
   "source": [
    "#Or use the function to check all the categorical variables for their correlations with price\n",
    "CategoricalPredictorList=['a2', 'a3', 'a4','a5','a6','d1','d2']\n",
    "FunctionAnova(inpData=df, \n",
    "              TargetVariable='a1', \n",
    "              CategoricalPredictorList=CategoricalPredictorList)"
   ]
  },
  {
   "attachments": {},
   "cell_type": "markdown",
   "metadata": {},
   "source": [
    "ALAYSIS OF THE RESULTS FROM THE ANOVA FUNCTION.\n",
    "\n",
    "a2 is correlated with a1 | P-Value: 9.444470942079121e-13\n",
    "The p-value is very small (close to zero), indicating a highly significant correlation between a2 and a1. This suggests that the occurrence of nausea (a2) is related to the temperature (a1).\n",
    "\n",
    "a3 is correlated with a1 | P-Value: 9.538063369677785e-06\n",
    "Similarly, the p-value for a3 and a1 correlation is very small, indicating a significant correlation. This implies that the presence of lumbar pain (a3) is associated with the temperature (a1).\n",
    "\n",
    "a4 is NOT correlated with a1 | P-Value: 0.8379440897531043\n",
    "In this case, the p-value is relatively large (greater than 0.05), suggesting that there is no significant correlation between continuous need for urination (a4) and the temperature (a1).\n",
    "\n",
    "a5 is NOT correlated with a1 | P-Value: 0.5116123607874574\n",
    "Similarly, the p-value for the correlation between micturition pains (a5) and temperature (a1) is larger than 0.05, indicating no significant correlation.\n",
    "\n",
    "a6 is NOT correlated with a1 | P-Value: 0.6863061482042518\n",
    "The p-value for the correlation between burning of urethra, itch, swelling of urethra outlet (a6) and temperature (a1) is also larger than 0.05, indicating no significant correlation.\n",
    "\n",
    "d1 is correlated with a1 | P-Value: 0.009239014298390651\n",
    "The p-value for the correlation between the inflammation of the urinary bladder (d1) and temperature (a1) is smaller than 0.05, suggesting a significant correlation between them.\n",
    "\n",
    "d2 is correlated with a1 | P-Value: 8.233666411517864e-22\n",
    "The p-value for the correlation between nephritis of renal pelvis origin (d2) and temperature (a1) is very small, indicating a highly significant correlation between them.\n",
    "\n",
    "Based on these results, we can conclude that a2, a3, d1, and d2 are correlated with the temperature (a1), while a4, a5, and a6 do not show significant correlations."
   ]
  },
  {
   "attachments": {},
   "cell_type": "markdown",
   "metadata": {},
   "source": [
    "question 2: B\n",
    "To test for relationship between categorical variables."
   ]
  },
  {
   "attachments": {},
   "cell_type": "markdown",
   "metadata": {},
   "source": [
    "from the analysis and exploration, the categorical variables in the dataset are a2\ta3\ta4\ta5\ta6\td1\td2\n",
    "\n",
    "it is important to note that while testing for this, we are to first visualise this by using grouped bar plots and these will be followed by a statistical explanation using the chi-square test."
   ]
  },
  {
   "cell_type": "code",
   "execution_count": 89,
   "metadata": {},
   "outputs": [
    {
     "data": {
      "image/png": "[encoded data removed]",
      "text/plain": [
       "<Figure size 1000x600 with 1 Axes>"
      ]
     },
     "metadata": {},
     "output_type": "display_data"
    }
   ],
   "source": [
    "import matplotlib.pyplot as plt\n",
    "\n",
    "# Define the categories and their corresponding counts\n",
    "categories = ['a2', 'a3', 'a4', 'a5', 'a6', 'd1', 'd2']\n",
    "counts = [91, 70, 80, 61, 70, 61, 70]\n",
    "\n",
    "# Set the figure size\n",
    "plt.figure(figsize=(10, 6))\n",
    "\n",
    "# Plot the grouped bar plot\n",
    "plt.bar(categories, counts)\n",
    "\n",
    "# Set labels and title\n",
    "plt.xlabel('Categorical Variables')\n",
    "plt.ylabel('Count')\n",
    "plt.title('Grouped Bar Plot of Categorical Variables')\n",
    "\n",
    "# Show the plot\n",
    "plt.show()\n"
   ]
  },
  {
   "attachments": {},
   "cell_type": "markdown",
   "metadata": {},
   "source": [
    "below is the function to employ a chi-square test"
   ]
  },
  {
   "cell_type": "code",
   "execution_count": 90,
   "metadata": {},
   "outputs": [
    {
     "name": "stdout",
     "output_type": "stream",
     "text": [
      "a2 vs a1 | Chi-Square: 66.3888 | P-Value: 0.0125\n",
      "a3 vs a1 | Chi-Square: 44.9486 | P-Value: 0.3902\n",
      "a4 vs a1 | Chi-Square: 26.8875 | P-Value: 0.9741\n",
      "a5 vs a1 | Chi-Square: 34.5429 | P-Value: 0.8177\n",
      "a6 vs a1 | Chi-Square: 36.8571 | P-Value: 0.7337\n",
      "d1 vs a1 | Chi-Square: 41.0447 | P-Value: 0.5564\n",
      "d2 vs a1 | Chi-Square: 89.2114 | P-Value: 0.0000\n"
     ]
    }
   ],
   "source": [
    "from scipy.stats import chi2_contingency\n",
    "\n",
    "# Define the categorical variables\n",
    "categorical_vars = ['a2', 'a3', 'a4', 'a5', 'a6', 'd1', 'd2']\n",
    "\n",
    "# Perform chi-square test for each variable\n",
    "for var in categorical_vars:\n",
    "    contingency_table = pd.crosstab(df[var], df['a1'])\n",
    "    chi2, p, _, _ = chi2_contingency(contingency_table)\n",
    "    print(f\"{var} vs a1 | Chi-Square: {chi2:.4f} | P-Value: {p:.4f}\")\n"
   ]
  },
  {
   "cell_type": "code",
   "execution_count": 91,
   "metadata": {},
   "outputs": [
    {
     "name": "stdout",
     "output_type": "stream",
     "text": [
      "a2 vs a3 | Chi-Square: 25.1017 | P-Value: 0.0000\n",
      "a2 vs a4 | Chi-Square: 0.0000 | P-Value: 1.0000\n",
      "a2 vs a5 | Chi-Square: 36.9015 | P-Value: 0.0000\n",
      "a2 vs a6 | Chi-Square: 1.2485 | P-Value: 0.2638\n",
      "a2 vs d1 | Chi-Square: 3.2734 | P-Value: 0.0704\n",
      "a2 vs d2 | Chi-Square: 50.4204 | P-Value: 0.0000\n",
      "a3 vs a4 | Chi-Square: 5.8671 | P-Value: 0.0154\n",
      "a3 vs a5 | Chi-Square: 3.3162 | P-Value: 0.0686\n",
      "a3 vs a6 | Chi-Square: 0.0157 | P-Value: 0.9004\n",
      "a3 vs d1 | Chi-Square: 30.5237 | P-Value: 0.0000\n",
      "a3 vs d2 | Chi-Square: 58.3210 | P-Value: 0.0000\n",
      "a4 vs a5 | Chi-Square: 12.6077 | P-Value: 0.0004\n",
      "a4 vs a6 | Chi-Square: 40.3243 | P-Value: 0.0000\n",
      "a4 vs d1 | Chi-Square: 55.1195 | P-Value: 0.0000\n",
      "a4 vs d2 | Chi-Square: 5.8671 | P-Value: 0.0154\n",
      "a5 vs a6 | Chi-Square: 2.1044 | P-Value: 0.1469\n",
      "a5 vs d1 | Chi-Square: 50.6848 | P-Value: 0.0000\n",
      "a5 vs d2 | Chi-Square: 2.1044 | P-Value: 0.1469\n",
      "a6 vs d1 | Chi-Square: 2.1044 | P-Value: 0.1469\n",
      "a6 vs d2 | Chi-Square: 10.5953 | P-Value: 0.0011\n",
      "d1 vs d2 | Chi-Square: 3.5448 | P-Value: 0.0597\n"
     ]
    }
   ],
   "source": [
    "from scipy.stats import chi2_contingency\n",
    "\n",
    "# Define the categorical variables\n",
    "categorical_vars = ['a2', 'a3', 'a4', 'a5', 'a6', 'd1', 'd2']\n",
    "\n",
    "# Perform chi-square test for each pair of categorical variables\n",
    "for i in range(len(categorical_vars)):\n",
    "    for j in range(i + 1, len(categorical_vars)):\n",
    "        contingency_table = pd.crosstab(df[categorical_vars[i]], df[categorical_vars[j]])\n",
    "        chi2, p, _, _ = chi2_contingency(contingency_table)\n",
    "        print(f\"{categorical_vars[i]} vs {categorical_vars[j]} | Chi-Square: {chi2:.4f} | P-Value: {p:.4f}\")\n"
   ]
  },
  {
   "attachments": {},
   "cell_type": "markdown",
   "metadata": {},
   "source": [
    "to explain the above results:\n",
    "\n",
    "a2 vs a3: Chi-Square = 25.1017, P-Value = 0.0000\n",
    "This comparison suggests that there is a significant association between variables a2 and a3. The low p-value indicates that the association is unlikely to be due to chance.\n",
    "\n",
    "a2 vs a4: Chi-Square = 0.0000, P-Value = 1.0000\n",
    "In this case, the chi-square test statistic is 0, which means there is no association between variables a2 and a4. The p-value of 1.0000 further supports the lack of association.\n",
    "\n",
    "a2 vs a5: Chi-Square = 36.9015, P-Value = 0.0000\n",
    "The comparison between variables a2 and a5 shows a significant association. The chi-square test statistic is relatively high, and the p-value is close to 0, indicating a strong association.\n",
    "\n",
    "a2 vs a6: Chi-Square = 1.2485, P-Value = 0.2638\n",
    "For variables a2 and a6, the chi-square test statistic is 1.2485. The p-value of 0.2638 suggests that the association between these variables is not statistically significant.\n",
    "\n",
    "a2 vs d1: Chi-Square = 3.2734, P-Value = 0.0704\n",
    "The comparison between variables a2 and d1 yields a chi-square test statistic of 3.2734. Although the p-value is relatively low, it is above the commonly used significance level of 0.05, indicating that the association may not be statistically significant.\n",
    "\n",
    "a2 vs d2: Chi-Square = 50.4204, P-Value = 0.0000\n",
    "Variables a2 and d2 exhibit a significant association. The chi-square test statistic is relatively high, and the p-value is close to 0, indicating a strong association.\n",
    "\n",
    "\n"
   ]
  },
  {
   "attachments": {},
   "cell_type": "markdown",
   "metadata": {},
   "source": []
  },
  {
   "attachments": {},
   "cell_type": "markdown",
   "metadata": {},
   "source": [
    "QUESTION 3. Which of the variables are most correlated or linked to;\n",
    "a) d1 decision: Inflammation of urinary bladder\n",
    "b) d2 decision: Nephritis of renal pelvis origin"
   ]
  },
  {
   "attachments": {},
   "cell_type": "markdown",
   "metadata": {},
   "source": [
    "From the above statistical results from the CHI-SQUARE TEST\n",
    "\n",
    "a) d1 decision: Inflammation of urinary bladder\n",
    "\n",
    "\n",
    "\n",
    "a2 vs d1: Chi-Square = 3.2734, P-Value = 0.0704\n",
    "\n",
    "a3 vs d1: Chi-Square = 30.5237, P-Value = 0.0000\n",
    "\n",
    "a4 vs d1: Chi-Square = 55.1195, P-Value = 0.0000\n",
    "\n",
    "a5 vs d1: Chi-Square = 50.6848, P-Value = 0.0000\n",
    "\n",
    "a6 vs d1: Chi-Square = 2.1044, P-Value = 0.1469\n",
    "\n",
    "The variables a3, a4, and a5 show significant associations with the d1 decision, as their p-values are close to or equal to 0. These variables (a3(Lumbar pain), a4 (Urine pushing (continuous need for urination)), and a5(Micturition pains)) are more correlated or linked to inflammation of the urinary bladder.\n",
    "\n",
    "b) d2 decision: Nephritis of renal pelvis origin\n",
    "\n",
    "Reviewing the provided results:\n",
    "\n",
    "\n",
    "a2 vs d2: Chi-Square = 50.4204, P-Value = 0.0000\n",
    "\n",
    "a3 vs d2: Chi-Square = 58.3210, P-Value = 0.0000\n",
    "\n",
    "a4 vs d2: Chi-Square = 5.8671, P-Value = 0.0154\n",
    "\n",
    "a5 vs d2: Chi-Square = 2.1044, P-Value = 0.1469\n",
    "\n",
    "a6 vs d2: Chi-Square = 10.5953, P-Value = 0.0011\n",
    "\n",
    "The variables a2, a3, and a4 display significant associations with the d2 decision, given their low p-values. These variables (a2-Occurrence of nausea, a3-Lumbar pain, and a4-Urine pushing (continuous need for urination)) are more correlated or linked to nephritis of renal pelvis origin.\n",
    "\n",
    "\n",
    "\n",
    "Finally:\n",
    "\n",
    " the variables a3, a4, and a5 are most correlated or linked to the d1 decision (inflammation of urinary bladder), while the variables a2, a3, and a4 are most correlated or linked to the d2 decision (nephritis of renal pelvis origin) based on the provided chi-square test statistics and p-values.\n",
    "\n",
    "\n",
    "\n",
    "\n",
    "\n",
    "\n"
   ]
  },
  {
   "attachments": {},
   "cell_type": "markdown",
   "metadata": {},
   "source": [
    "----THE END-----"
   ]
  }
 ],
 "metadata": {
  "kernelspec": {
   "display_name": "Python 3",
   "language": "python",
   "name": "python3"
  },
  "language_info": {
   "codemirror_mode": {
    "name": "ipython",
    "version": 3
   },
   "file_extension": ".py",
   "mimetype": "text/x-python",
   "name": "python",
   "nbconvert_exporter": "python",
   "pygments_lexer": "ipython3",
   "version": "3.11.4"
  },
  "orig_nbformat": 4
 },
 "nbformat": 4,
 "nbformat_minor": 2
}
